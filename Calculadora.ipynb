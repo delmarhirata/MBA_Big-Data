{
 "cells": [
  {
   "cell_type": "markdown",
   "id": "313ed275",
   "metadata": {},
   "source": [
    "**Exercício #01**\n",
    "\n",
    "A partir dos conhecimentos em sala de aula crie uma **calculadora**. Ela deverá receber dois valores. Após isso executar os metodos:\n",
    "- soma\n",
    "- subtracao\n",
    "- multiplicacao\n",
    "- divisao\n",
    "\n",
    "Lembre-se na divisão testar o zero."
   ]
  },
  {
   "cell_type": "code",
   "execution_count": 9,
   "id": "1a048c15-c46e-4836-afd3-47395875dd0a",
   "metadata": {},
   "outputs": [],
   "source": [
    "# Criação da classe calculadora\n",
    "class calculadora:\n",
    "    def __init__(self, num1, num2):\n",
    "        self.num1 = float(num1)\n",
    "        self.num2 = float(num2)\n",
    "\n",
    "    def soma(self):\n",
    "        soma = self.num1 + self.num2\n",
    "        print(\"O resultado da soma é: \", soma)\n",
    "\n",
    "    def subtracao(self):\n",
    "        subtracao = self.num1 - self.num2\n",
    "        print(\"O resultado da subtração é: \", subtracao)\n",
    "\n",
    "    def mutilicacao(self):\n",
    "        mutilicacao = self.num1 * self.num2\n",
    "        print(\"O resultado da mutiplicação é: \", mutilicacao)\n",
    "\n",
    "    def divisao(self):\n",
    "        if self.num2 == 0: # teste do zero\n",
    "            divisao = \"O resultado da divisão é: ERRO - O divisor tem que ser diferente que zero\"\n",
    "            print(divisao)\n",
    "        else:\n",
    "            divisao = self.num1 / self.num2\n",
    "            print(\"O resultado da divisão é: \", divisao)"
   ]
  },
  {
   "cell_type": "code",
   "execution_count": 10,
   "id": "9efb0a69-ab77-438b-9912-9d3cd563bdc5",
   "metadata": {},
   "outputs": [
    {
     "name": "stdout",
     "output_type": "stream",
     "text": [
      "Entre com o primeiro número: 15\n",
      "Entre com o segundo número: 0\n"
     ]
    }
   ],
   "source": [
    "#Entrada dos números\n",
    "num1 = input(\"Entre com o primeiro número: \")\n",
    "num2 = input(\"Entre com o segundo número: \")"
   ]
  },
  {
   "cell_type": "code",
   "execution_count": 11,
   "id": "ff3d884c-accf-4e8a-b3ab-f76fc48aa359",
   "metadata": {},
   "outputs": [
    {
     "name": "stdout",
     "output_type": "stream",
     "text": [
      "O resultado da soma é:  15.0\n",
      "O resultado da subtração é:  15.0\n",
      "O resultado da mutiplicação é:  0.0\n",
      "O resultado da divisão é: ERRO - O divisor tem que ser diferente que zero\n"
     ]
    }
   ],
   "source": [
    "# Executando calculadora\n",
    "calculadora = calculadora(num1, num2)\n",
    "calculadora.soma()\n",
    "calculadora.subtracao()\n",
    "calculadora.mutilicacao()\n",
    "calculadora.divisao()"
   ]
  },
  {
   "cell_type": "code",
   "execution_count": null,
   "id": "0ba58ef4",
   "metadata": {},
   "outputs": [],
   "source": []
  }
 ],
 "metadata": {
  "interpreter": {
   "hash": "96e910770632bfb52e4398b9442f751faa43b1996d784d85af75fdecfcb1418d"
  },
  "kernelspec": {
   "display_name": "Python 3",
   "language": "python",
   "name": "python3"
  },
  "language_info": {
   "codemirror_mode": {
    "name": "ipython",
    "version": 3
   },
   "file_extension": ".py",
   "mimetype": "text/x-python",
   "name": "python",
   "nbconvert_exporter": "python",
   "pygments_lexer": "ipython3",
   "version": "3.8.8"
  }
 },
 "nbformat": 4,
 "nbformat_minor": 5
}
