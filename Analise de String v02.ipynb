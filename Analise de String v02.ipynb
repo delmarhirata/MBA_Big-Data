{
 "cells": [
  {
   "cell_type": "markdown",
   "id": "ce2438a5",
   "metadata": {},
   "source": [
    "**Desafio #01.**\n",
    "\n",
    "Pegue o seguinte texto:\n",
    "\n",
    "Um forte indicador de que já há avanços de Democratização de Dados nas organizações é observar quantas pessoas tem acesso a Dados.\n",
    "\n",
    "- Conte a quantidade de letras no texto e também a quantidade de letras repetidas."
   ]
  },
  {
   "cell_type": "code",
   "execution_count": 35,
   "id": "555f8ba2",
   "metadata": {},
   "outputs": [],
   "source": [
    "# Conta a quantidade de carcteres.\n",
    "def contador_carcter(texto):\n",
    "    contador = 0\n",
    "    for caracter in texto:\n",
    "        contador += 1\n",
    "    return contador\n",
    "\n",
    "# Manta uma lista com carcteres exclusivos\n",
    "def monta_lista_exclusivo(texto):\n",
    "    n_frase = []\n",
    "    cont1 = 0\n",
    "    cont2 = 0\n",
    "    while contador_carcter(texto) > cont1:    \n",
    "        try:\n",
    "            n_frase.index(texto[cont1])\n",
    "            cont1 += 1\n",
    "        except:\n",
    "            n_frase.append(texto[cont1])\n",
    "            cont1 += 1\n",
    "            cont2 += 1\n",
    "    return n_frase\n",
    "\n",
    "# Impressão das ocorrencias\n",
    "def ocorrencias(texto):\n",
    "    con = 0\n",
    "    cont = 0\n",
    "    while contador_carcter(monta_lista_exclusivo(texto)) > con: \n",
    "        for i in range (contador_carcter(texto)):\n",
    "            if texto[i] == monta_lista_exclusivo(texto)[con]:\n",
    "                cont += 1 \n",
    "        print( 'O Caracter: \"{}\" repete {} vez(es).'.format(monta_lista_exclusivo(texto)[con], cont))\n",
    "        con += 1\n",
    "        cont = 0\n"
   ]
  },
  {
   "cell_type": "code",
   "execution_count": 36,
   "id": "62f95907",
   "metadata": {},
   "outputs": [
    {
     "name": "stdout",
     "output_type": "stream",
     "text": [
      "Digite a Frase: Um forte indicador de que já há avanços de Democratização de Dados nas organizações é observar quantas pessoas tem acesso a Dados.\n"
     ]
    }
   ],
   "source": [
    "# Entra com a frase a ser analisada\n",
    "texto = str(input(\"Digite a Frase: \"))"
   ]
  },
  {
   "cell_type": "code",
   "execution_count": 37,
   "id": "f2bebd0b",
   "metadata": {},
   "outputs": [
    {
     "name": "stdout",
     "output_type": "stream",
     "text": [
      "Esta frase tem 130 caracteres. Incluindo espaços e pontuação.\n",
      "Esta frase tem 30 caracteres distintos. Incluindo espaços e pontuação.\n",
      "\n",
      "Aqui estão as ocorrencias:\n",
      "O Caracter: \"U\" repete 1 vez(es).\n",
      "O Caracter: \"m\" repete 3 vez(es).\n",
      "O Caracter: \" \" repete 21 vez(es).\n",
      "O Caracter: \"f\" repete 1 vez(es).\n",
      "O Caracter: \"o\" repete 11 vez(es).\n",
      "O Caracter: \"r\" repete 6 vez(es).\n",
      "O Caracter: \"t\" repete 4 vez(es).\n",
      "O Caracter: \"e\" repete 11 vez(es).\n",
      "O Caracter: \"i\" repete 4 vez(es).\n",
      "O Caracter: \"n\" repete 5 vez(es).\n",
      "O Caracter: \"d\" repete 7 vez(es).\n",
      "O Caracter: \"c\" repete 3 vez(es).\n",
      "O Caracter: \"a\" repete 16 vez(es).\n",
      "O Caracter: \"q\" repete 2 vez(es).\n",
      "O Caracter: \"u\" repete 2 vez(es).\n",
      "O Caracter: \"j\" repete 1 vez(es).\n",
      "O Caracter: \"á\" repete 2 vez(es).\n",
      "O Caracter: \"h\" repete 1 vez(es).\n",
      "O Caracter: \"v\" repete 2 vez(es).\n",
      "O Caracter: \"ç\" repete 3 vez(es).\n",
      "O Caracter: \"s\" repete 12 vez(es).\n",
      "O Caracter: \"D\" repete 3 vez(es).\n",
      "O Caracter: \"z\" repete 2 vez(es).\n",
      "O Caracter: \"ã\" repete 1 vez(es).\n",
      "O Caracter: \"g\" repete 1 vez(es).\n",
      "O Caracter: \"õ\" repete 1 vez(es).\n",
      "O Caracter: \"é\" repete 1 vez(es).\n",
      "O Caracter: \"b\" repete 1 vez(es).\n",
      "O Caracter: \"p\" repete 1 vez(es).\n",
      "O Caracter: \".\" repete 1 vez(es).\n"
     ]
    }
   ],
   "source": [
    "# Impressão do resultado\n",
    "print('Esta frase tem {} caracteres. Incluindo espaços e pontuação.'.format(contador_carcter(texto)))\n",
    "print('Esta frase tem {} caracteres distintos. Incluindo espaços e pontuação.'.format(contador_carcter(monta_lista_exclusivo(texto))))\n",
    "print()\n",
    "print('Aqui estão as ocorrencias:')\n",
    "ocorrencias(texto)"
   ]
  },
  {
   "cell_type": "code",
   "execution_count": null,
   "id": "1ea9eb0b",
   "metadata": {},
   "outputs": [],
   "source": []
  }
 ],
 "metadata": {
  "kernelspec": {
   "display_name": "Python 3",
   "language": "python",
   "name": "python3"
  },
  "language_info": {
   "codemirror_mode": {
    "name": "ipython",
    "version": 3
   },
   "file_extension": ".py",
   "mimetype": "text/x-python",
   "name": "python",
   "nbconvert_exporter": "python",
   "pygments_lexer": "ipython3",
   "version": "3.8.8"
  }
 },
 "nbformat": 4,
 "nbformat_minor": 5
}
