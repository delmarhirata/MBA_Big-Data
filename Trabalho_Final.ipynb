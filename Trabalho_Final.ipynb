{
 "cells": [
  {
   "cell_type": "markdown",
   "id": "41176d54",
   "metadata": {},
   "source": [
    "# Trabalho Final - Data Science using Python\n",
    "\n",
    "### Delmar Hirtata - 1901786"
   ]
  },
  {
   "cell_type": "code",
   "execution_count": 1,
   "id": "d038dcfc",
   "metadata": {},
   "outputs": [],
   "source": [
    "# Importa bibliotecas utilizadas na análise\n",
    "import pandas as pd\n",
    "import numpy as np\n",
    "import matplotlib.pyplot as plt"
   ]
  },
  {
   "cell_type": "code",
   "execution_count": 2,
   "id": "f21ebc09",
   "metadata": {},
   "outputs": [],
   "source": [
    "# Importa base de dados\n",
    "cadastro_df = pd.read_csv(\"cadastro.csv\", encoding = 'utf-8')\n",
    "preco_df = pd.read_csv('preco da gasolina.csv', encoding = 'utf-8')\n",
    "salario_df = pd.read_csv('salario_profissoes.csv', encoding = 'utf-8')"
   ]
  },
  {
   "cell_type": "code",
   "execution_count": 3,
   "id": "5585ec9d",
   "metadata": {},
   "outputs": [
    {
     "data": {
      "text/html": [
       "<div>\n",
       "<style scoped>\n",
       "    .dataframe tbody tr th:only-of-type {\n",
       "        vertical-align: middle;\n",
       "    }\n",
       "\n",
       "    .dataframe tbody tr th {\n",
       "        vertical-align: top;\n",
       "    }\n",
       "\n",
       "    .dataframe thead th {\n",
       "        text-align: right;\n",
       "    }\n",
       "</style>\n",
       "<table border=\"1\" class=\"dataframe\">\n",
       "  <thead>\n",
       "    <tr style=\"text-align: right;\">\n",
       "      <th></th>\n",
       "      <th>nome</th>\n",
       "      <th>sobrenome</th>\n",
       "      <th>ano_nascimento</th>\n",
       "      <th>sexo</th>\n",
       "      <th>cidade</th>\n",
       "      <th>profissão</th>\n",
       "      <th>experiencia profissional</th>\n",
       "      <th>estado_civil</th>\n",
       "      <th>filhos</th>\n",
       "      <th>lazer_final_de_semana</th>\n",
       "      <th>pratica_esporte</th>\n",
       "      <th>qual_esporte</th>\n",
       "      <th>quanta_vezes_na_semana_pratica_esporte</th>\n",
       "      <th>tem carro</th>\n",
       "      <th>escolaridade</th>\n",
       "    </tr>\n",
       "  </thead>\n",
       "  <tbody>\n",
       "    <tr>\n",
       "      <th>0</th>\n",
       "      <td>Dirceu</td>\n",
       "      <td>Manolo</td>\n",
       "      <td>1985</td>\n",
       "      <td>m</td>\n",
       "      <td>São Vicente</td>\n",
       "      <td>Cientista de Dados</td>\n",
       "      <td>4</td>\n",
       "      <td>Casado</td>\n",
       "      <td>1</td>\n",
       "      <td>estudar, academia, jogar video game,surfar</td>\n",
       "      <td>sim</td>\n",
       "      <td>academia</td>\n",
       "      <td>3.0</td>\n",
       "      <td>sim</td>\n",
       "      <td>Ensino Superior</td>\n",
       "    </tr>\n",
       "    <tr>\n",
       "      <th>1</th>\n",
       "      <td>Maria</td>\n",
       "      <td>Silva</td>\n",
       "      <td>1970</td>\n",
       "      <td>f</td>\n",
       "      <td>Santos</td>\n",
       "      <td>dona de casa</td>\n",
       "      <td>2</td>\n",
       "      <td>Casada</td>\n",
       "      <td>3</td>\n",
       "      <td>ver tv</td>\n",
       "      <td>não</td>\n",
       "      <td>-</td>\n",
       "      <td>0.0</td>\n",
       "      <td>não</td>\n",
       "      <td>Ensino Médio</td>\n",
       "    </tr>\n",
       "    <tr>\n",
       "      <th>2</th>\n",
       "      <td>Adalberto</td>\n",
       "      <td>Martins</td>\n",
       "      <td>1990</td>\n",
       "      <td>m</td>\n",
       "      <td>São Paulo</td>\n",
       "      <td>desempregado</td>\n",
       "      <td>0</td>\n",
       "      <td>Solteiro</td>\n",
       "      <td>1</td>\n",
       "      <td>jogar bola</td>\n",
       "      <td>sim</td>\n",
       "      <td>jogo bola</td>\n",
       "      <td>2.0</td>\n",
       "      <td>sim</td>\n",
       "      <td>Ensino Superior</td>\n",
       "    </tr>\n",
       "  </tbody>\n",
       "</table>\n",
       "</div>"
      ],
      "text/plain": [
       "        nome sobrenome  ano_nascimento sexo       cidade           profissão  \\\n",
       "0     Dirceu    Manolo            1985    m  São Vicente  Cientista de Dados   \n",
       "1      Maria     Silva            1970    f       Santos        dona de casa   \n",
       "2  Adalberto   Martins            1990    m    São Paulo        desempregado   \n",
       "\n",
       "   experiencia profissional estado_civil  filhos  \\\n",
       "0                         4       Casado       1   \n",
       "1                         2       Casada       3   \n",
       "2                         0     Solteiro       1   \n",
       "\n",
       "                        lazer_final_de_semana pratica_esporte qual_esporte  \\\n",
       "0  estudar, academia, jogar video game,surfar             sim     academia   \n",
       "1                                      ver tv             não            -   \n",
       "2                                  jogar bola             sim    jogo bola   \n",
       "\n",
       "   quanta_vezes_na_semana_pratica_esporte tem carro     escolaridade  \n",
       "0                                     3.0       sim  Ensino Superior  \n",
       "1                                     0.0       não     Ensino Médio  \n",
       "2                                     2.0       sim  Ensino Superior  "
      ]
     },
     "execution_count": 3,
     "metadata": {},
     "output_type": "execute_result"
    }
   ],
   "source": [
    "# Verificação do Dataframe\n",
    "cadastro_df.head(3)"
   ]
  },
  {
   "cell_type": "markdown",
   "id": "f6b79982",
   "metadata": {},
   "source": [
    "### 1 - Qual a idade média das pessoas no cadastro ?"
   ]
  },
  {
   "cell_type": "code",
   "execution_count": 4,
   "id": "847e57b0",
   "metadata": {},
   "outputs": [],
   "source": [
    "# Criação da coluna idade no dataframe por função.\n",
    "def idade(ano):\n",
    "    idade = 2021 - ano\n",
    "    return idade\n",
    "cadastro_df['idade'] = idade(cadastro_df['ano_nascimento'])"
   ]
  },
  {
   "cell_type": "code",
   "execution_count": 5,
   "id": "884c10b1",
   "metadata": {},
   "outputs": [
    {
     "data": {
      "text/plain": [
       "\"\\ncadastro_df['idade'] = 2021-cadastro_df['ano_nascimento']\\n\""
      ]
     },
     "execution_count": 5,
     "metadata": {},
     "output_type": "execute_result"
    }
   ],
   "source": [
    "# Também temos a opção de criar a coluna idade diretamento no dataframe.\n",
    "# Não utilizado neste trabalho\n",
    "'''\n",
    "cadastro_df['idade'] = 2021-cadastro_df['ano_nascimento']\n",
    "'''"
   ]
  },
  {
   "cell_type": "code",
   "execution_count": 6,
   "id": "fb711206",
   "metadata": {},
   "outputs": [
    {
     "name": "stdout",
     "output_type": "stream",
     "text": [
      "A média de idade é de 33.73 anos.\n"
     ]
    }
   ],
   "source": [
    "# Cálculo da média da idades no dataframe.\n",
    "media_idades = cadastro_df['idade'].mean()\n",
    "print('A média de idade é de {:5.2f} anos.'.format(media_idades))"
   ]
  },
  {
   "cell_type": "markdown",
   "id": "2dac0720",
   "metadata": {},
   "source": [
    "### 2 - Quantos homens tem no cadastro ?\n",
    "### 3 - Quantas mulheres tem no cadastro ?"
   ]
  },
  {
   "cell_type": "code",
   "execution_count": 7,
   "id": "8be716f6",
   "metadata": {},
   "outputs": [
    {
     "name": "stdout",
     "output_type": "stream",
     "text": [
      "O total de pessoas cadastradas é de 30 pessoas\n"
     ]
    }
   ],
   "source": [
    "# Caolculo de pessoas cadastradas\n",
    "total = cadastro_df['sexo'].count()\n",
    "print('O total de pessoas cadastradas é de {} pessoas'.format(total))"
   ]
  },
  {
   "cell_type": "code",
   "execution_count": 8,
   "id": "8dd5fdd2",
   "metadata": {},
   "outputs": [
    {
     "data": {
      "text/html": [
       "<div>\n",
       "<style scoped>\n",
       "    .dataframe tbody tr th:only-of-type {\n",
       "        vertical-align: middle;\n",
       "    }\n",
       "\n",
       "    .dataframe tbody tr th {\n",
       "        vertical-align: top;\n",
       "    }\n",
       "\n",
       "    .dataframe thead th {\n",
       "        text-align: right;\n",
       "    }\n",
       "</style>\n",
       "<table border=\"1\" class=\"dataframe\">\n",
       "  <thead>\n",
       "    <tr style=\"text-align: right;\">\n",
       "      <th></th>\n",
       "      <th>nome</th>\n",
       "    </tr>\n",
       "    <tr>\n",
       "      <th>sexo</th>\n",
       "      <th></th>\n",
       "    </tr>\n",
       "  </thead>\n",
       "  <tbody>\n",
       "    <tr>\n",
       "      <th>f</th>\n",
       "      <td>14</td>\n",
       "    </tr>\n",
       "    <tr>\n",
       "      <th>m</th>\n",
       "      <td>16</td>\n",
       "    </tr>\n",
       "  </tbody>\n",
       "</table>\n",
       "</div>"
      ],
      "text/plain": [
       "      nome\n",
       "sexo      \n",
       "f       14\n",
       "m       16"
      ]
     },
     "execution_count": 8,
     "metadata": {},
     "output_type": "execute_result"
    }
   ],
   "source": [
    "# Verificando quantidade de homes e mulheres pelo método \"groupby\"\n",
    "cadastro_df[['sexo','nome']].groupby('sexo').count()"
   ]
  },
  {
   "cell_type": "code",
   "execution_count": 9,
   "id": "761164bf",
   "metadata": {},
   "outputs": [],
   "source": [
    "# Verificando quantidade de homes e mulheres por função\n",
    "\n",
    "def tipo_sexo(cadastro_df):\n",
    "    homem = 0\n",
    "    mulher = 0\n",
    "    \n",
    "    for i in cadastro_df['sexo']:\n",
    "        if i == \"m\":\n",
    "            homem += 1\n",
    "        else:\n",
    "            mulher += 1\n",
    "    return print('Temos {} homens e {} mulheres'.format(homem, mulher))\n"
   ]
  },
  {
   "cell_type": "code",
   "execution_count": 10,
   "id": "f40bc1d5",
   "metadata": {},
   "outputs": [
    {
     "name": "stdout",
     "output_type": "stream",
     "text": [
      "Temos 16 homens e 14 mulheres\n"
     ]
    }
   ],
   "source": [
    "tipo_sexo(cadastro_df)"
   ]
  },
  {
   "cell_type": "markdown",
   "id": "f7b8cbe3",
   "metadata": {},
   "source": [
    "# 4 - Qual a idade média dos homens e das mulheres ?"
   ]
  },
  {
   "cell_type": "code",
   "execution_count": 11,
   "id": "910f5c8a",
   "metadata": {},
   "outputs": [],
   "source": [
    "t_homem = 0\n",
    "t_mulher = 0\n",
    "\n",
    "for i in cadastro_df['sexo']:\n",
    "    if i == \"m\":\n",
    "        \n",
    "        t_homem = t_homem + cadastro_df['idade']\n",
    "    else:\n",
    "        \n",
    "        t_mulher = t_mulher + cadastro_df['idade']\n",
    "    "
   ]
  },
  {
   "cell_type": "code",
   "execution_count": 26,
   "id": "370c39e6",
   "metadata": {},
   "outputs": [
    {
     "data": {
      "text/plain": [
       "sexo\n",
       "f    34.857143\n",
       "m    32.750000\n",
       "Name: idade, dtype: float64"
      ]
     },
     "execution_count": 26,
     "metadata": {},
     "output_type": "execute_result"
    }
   ],
   "source": [
    "cadastro_df.groupby('sexo').idade.mean()"
   ]
  },
  {
   "cell_type": "markdown",
   "id": "bb6e6083",
   "metadata": {},
   "source": [
    "# 5 - Crie um gráfico de barras e mostre a distribuição de escolaridade no cadastro."
   ]
  },
  {
   "cell_type": "code",
   "execution_count": 13,
   "id": "19f1f9d2",
   "metadata": {},
   "outputs": [],
   "source": [
    "# Ajustando grafia do campo escolaridade\n",
    "\n",
    "cadastro_df = cadastro_df.replace('Ensimo Tecnico', 'Ensino Tecnico')\n",
    "cadastro_df = cadastro_df.replace('ensino Médio', 'Ensino Médio')\n",
    "cadastro_df = cadastro_df.replace('ensino médio', 'Ensino Médio')\n",
    "cadastro_df = cadastro_df.replace('ensino superior', 'Ensino Superior')\n"
   ]
  },
  {
   "cell_type": "code",
   "execution_count": 14,
   "id": "f3f36579",
   "metadata": {},
   "outputs": [],
   "source": [
    "# Criação da coluna qtd_escolar diretamento no dataframe.\n",
    "cadastro_df['qtd_escolar'] = 1"
   ]
  },
  {
   "cell_type": "code",
   "execution_count": 15,
   "id": "112cb748",
   "metadata": {},
   "outputs": [],
   "source": [
    "# Criação de Dataframe agrupodo por escolaridade\n",
    "escolaridade = cadastro_df.groupby('escolaridade')"
   ]
  },
  {
   "cell_type": "code",
   "execution_count": 16,
   "id": "bcc707d7",
   "metadata": {},
   "outputs": [
    {
     "data": {
      "text/html": [
       "<div>\n",
       "<style scoped>\n",
       "    .dataframe tbody tr th:only-of-type {\n",
       "        vertical-align: middle;\n",
       "    }\n",
       "\n",
       "    .dataframe tbody tr th {\n",
       "        vertical-align: top;\n",
       "    }\n",
       "\n",
       "    .dataframe thead th {\n",
       "        text-align: right;\n",
       "    }\n",
       "</style>\n",
       "<table border=\"1\" class=\"dataframe\">\n",
       "  <thead>\n",
       "    <tr style=\"text-align: right;\">\n",
       "      <th></th>\n",
       "      <th>ano_nascimento</th>\n",
       "      <th>experiencia profissional</th>\n",
       "      <th>filhos</th>\n",
       "      <th>quanta_vezes_na_semana_pratica_esporte</th>\n",
       "      <th>idade</th>\n",
       "      <th>qtd_escolar</th>\n",
       "    </tr>\n",
       "    <tr>\n",
       "      <th>escolaridade</th>\n",
       "      <th></th>\n",
       "      <th></th>\n",
       "      <th></th>\n",
       "      <th></th>\n",
       "      <th></th>\n",
       "      <th></th>\n",
       "    </tr>\n",
       "  </thead>\n",
       "  <tbody>\n",
       "    <tr>\n",
       "      <th>Ensino Médio</th>\n",
       "      <td>15898</td>\n",
       "      <td>14</td>\n",
       "      <td>16</td>\n",
       "      <td>8.0</td>\n",
       "      <td>270</td>\n",
       "      <td>8</td>\n",
       "    </tr>\n",
       "    <tr>\n",
       "      <th>Ensino Superior</th>\n",
       "      <td>41737</td>\n",
       "      <td>76</td>\n",
       "      <td>22</td>\n",
       "      <td>44.0</td>\n",
       "      <td>704</td>\n",
       "      <td>21</td>\n",
       "    </tr>\n",
       "    <tr>\n",
       "      <th>Ensino Tecnico</th>\n",
       "      <td>1983</td>\n",
       "      <td>2</td>\n",
       "      <td>0</td>\n",
       "      <td>4.0</td>\n",
       "      <td>38</td>\n",
       "      <td>1</td>\n",
       "    </tr>\n",
       "  </tbody>\n",
       "</table>\n",
       "</div>"
      ],
      "text/plain": [
       "                 ano_nascimento  experiencia profissional  filhos  \\\n",
       "escolaridade                                                        \n",
       "Ensino Médio              15898                        14      16   \n",
       "Ensino Superior           41737                        76      22   \n",
       "Ensino Tecnico             1983                         2       0   \n",
       "\n",
       "                 quanta_vezes_na_semana_pratica_esporte  idade  qtd_escolar  \n",
       "escolaridade                                                                 \n",
       "Ensino Médio                                        8.0    270            8  \n",
       "Ensino Superior                                    44.0    704           21  \n",
       "Ensino Tecnico                                      4.0     38            1  "
      ]
     },
     "execution_count": 16,
     "metadata": {},
     "output_type": "execute_result"
    }
   ],
   "source": [
    "# Soma\n",
    "escolaridade.sum()"
   ]
  },
  {
   "cell_type": "code",
   "execution_count": 17,
   "id": "98e806a7",
   "metadata": {
    "scrolled": true
   },
   "outputs": [
    {
     "data": {
      "text/plain": [
       "<AxesSubplot:xlabel='escolaridade'>"
      ]
     },
     "execution_count": 17,
     "metadata": {},
     "output_type": "execute_result"
    },
    {
     "data": {
      "image/png": "[encoded data removed]",
      "text/plain": [
       "<Figure size 432x288 with 1 Axes>"
      ]
     },
     "metadata": {
      "needs_background": "light"
     },
     "output_type": "display_data"
    }
   ],
   "source": [
    "# Plotando Gráfico de Barras\n",
    "escolaridade.sum()['qtd_escolar'].plot(kind='bar',x='escolaridade',y='quantidade')"
   ]
  },
  {
   "cell_type": "code",
   "execution_count": null,
   "id": "8b179c21",
   "metadata": {},
   "outputs": [],
   "source": []
  },
  {
   "cell_type": "markdown",
   "id": "5d4076a3",
   "metadata": {},
   "source": [
    "# 6 - Mostre a Média Salarial do cadastro "
   ]
  },
  {
   "cell_type": "code",
   "execution_count": 28,
   "id": "5de91846",
   "metadata": {},
   "outputs": [],
   "source": [
    "# Renomeando nome coluna e criando novo dataframe\n",
    "salario_novo = salario_df.rename(columns = {'Profissões':'profissão'})"
   ]
  },
  {
   "cell_type": "code",
   "execution_count": 29,
   "id": "58b3277c",
   "metadata": {},
   "outputs": [],
   "source": [
    "# Merge dos dataframes de cadastro e salario\n",
    "merge_df = pd.merge(salario_novo,cadastro_df, on = 'profissão')"
   ]
  },
  {
   "cell_type": "code",
   "execution_count": 30,
   "id": "a56d7225",
   "metadata": {},
   "outputs": [],
   "source": [
    "# Função para definição do salário e criação de coluna\n",
    "def salario_ajustado(merge_df):\n",
    "    for cad in merge_df['experiencia profissional']:\n",
    "        if(cad <= 3):\n",
    "            merge_df['salario'] = merge_df['salario até 3 anos']\n",
    "        else:\n",
    "            merge_df['salario'] = merge_df['salaior +3 anos']\n",
    "    return merge_df"
   ]
  },
  {
   "cell_type": "code",
   "execution_count": 31,
   "id": "218c7658",
   "metadata": {},
   "outputs": [],
   "source": [
    "# Adicionando coluna no dataframe\n",
    "merge_df = salario_ajustado(merge_df)"
   ]
  },
  {
   "cell_type": "code",
   "execution_count": 32,
   "id": "634f6e78",
   "metadata": {},
   "outputs": [
    {
     "name": "stdout",
     "output_type": "stream",
     "text": [
      "A média salarial é de R$ 3486.21.\n"
     ]
    }
   ],
   "source": [
    "# Cálculo da média do salario no dataframe.\n",
    "media_salario = merge_df['salario'].mean()\n",
    "print('A média salarial é de R$ {:6.2f}.'.format(media_salario))"
   ]
  },
  {
   "cell_type": "markdown",
   "id": "5fc1b44b",
   "metadata": {},
   "source": [
    "# 7 - Quem tem o maior salario"
   ]
  },
  {
   "cell_type": "code",
   "execution_count": 35,
   "id": "21dd536d",
   "metadata": {},
   "outputs": [
    {
     "data": {
      "text/plain": [
       "12000"
      ]
     },
     "execution_count": 35,
     "metadata": {},
     "output_type": "execute_result"
    }
   ],
   "source": [
    "# Maior salário\n",
    "merge_df['salario'].max()"
   ]
  },
  {
   "cell_type": "code",
   "execution_count": 58,
   "id": "0ea6837a",
   "metadata": {},
   "outputs": [
    {
     "data": {
      "text/plain": [
       "profissão\n",
       "Analista de Sistemas       4000\n",
       "Autonoma                   7000\n",
       "Auxiliar de Enfermagem     1500\n",
       "Biomedica                  2500\n",
       "Caminhoneiro               5000\n",
       "Cientista de Dados        10000\n",
       "Comercio Exterior          2800\n",
       "Dentista                   8000\n",
       "Enfermeira                 3000\n",
       "Frentista                  2000\n",
       "Gerente Financeiro         4500\n",
       "Gerente Geral              3400\n",
       "Gerente de Projeto         5000\n",
       "Médica                    12000\n",
       "Nutricionista              4000\n",
       "Pedreiro                   3000\n",
       "Professora                 3500\n",
       "Recursos Humanos           2500\n",
       "caixa de mercado            900\n",
       "desempregado                  0\n",
       "dona de casa               1200\n",
       "estagiario                 1400\n",
       "estudante                     0\n",
       "Name: salario, dtype: int64"
      ]
     },
     "execution_count": 58,
     "metadata": {},
     "output_type": "execute_result"
    }
   ],
   "source": [
    "# Utilizando o groupby para verficar a profissão com maior salário\n",
    "merge_df.groupby('profissão').salario.max()\n"
   ]
  },
  {
   "cell_type": "markdown",
   "id": "97bcae5f",
   "metadata": {},
   "source": [
    "# 8 - Tirando desempregado quem recebe menos"
   ]
  },
  {
   "cell_type": "code",
   "execution_count": 49,
   "id": "9fd8473f",
   "metadata": {},
   "outputs": [],
   "source": [
    "# Ordena dataframe pela coluna salário\n",
    "a = merge_df.sort_values(['salario'])"
   ]
  },
  {
   "cell_type": "code",
   "execution_count": 50,
   "id": "1860b678",
   "metadata": {},
   "outputs": [
    {
     "data": {
      "text/html": [
       "<div>\n",
       "<style scoped>\n",
       "    .dataframe tbody tr th:only-of-type {\n",
       "        vertical-align: middle;\n",
       "    }\n",
       "\n",
       "    .dataframe tbody tr th {\n",
       "        vertical-align: top;\n",
       "    }\n",
       "\n",
       "    .dataframe thead th {\n",
       "        text-align: right;\n",
       "    }\n",
       "</style>\n",
       "<table border=\"1\" class=\"dataframe\">\n",
       "  <thead>\n",
       "    <tr style=\"text-align: right;\">\n",
       "      <th></th>\n",
       "      <th>salario</th>\n",
       "      <th>profissão</th>\n",
       "    </tr>\n",
       "  </thead>\n",
       "  <tbody>\n",
       "    <tr>\n",
       "      <th>2</th>\n",
       "      <td>0</td>\n",
       "      <td>desempregado</td>\n",
       "    </tr>\n",
       "    <tr>\n",
       "      <th>3</th>\n",
       "      <td>0</td>\n",
       "      <td>desempregado</td>\n",
       "    </tr>\n",
       "    <tr>\n",
       "      <th>10</th>\n",
       "      <td>0</td>\n",
       "      <td>estudante</td>\n",
       "    </tr>\n",
       "    <tr>\n",
       "      <th>11</th>\n",
       "      <td>0</td>\n",
       "      <td>estudante</td>\n",
       "    </tr>\n",
       "    <tr>\n",
       "      <th>6</th>\n",
       "      <td>900</td>\n",
       "      <td>caixa de mercado</td>\n",
       "    </tr>\n",
       "    <tr>\n",
       "      <th>1</th>\n",
       "      <td>1200</td>\n",
       "      <td>dona de casa</td>\n",
       "    </tr>\n",
       "    <tr>\n",
       "      <th>7</th>\n",
       "      <td>1400</td>\n",
       "      <td>estagiario</td>\n",
       "    </tr>\n",
       "    <tr>\n",
       "      <th>8</th>\n",
       "      <td>1400</td>\n",
       "      <td>estagiario</td>\n",
       "    </tr>\n",
       "    <tr>\n",
       "      <th>5</th>\n",
       "      <td>1500</td>\n",
       "      <td>Auxiliar de Enfermagem</td>\n",
       "    </tr>\n",
       "    <tr>\n",
       "      <th>24</th>\n",
       "      <td>2000</td>\n",
       "      <td>Frentista</td>\n",
       "    </tr>\n",
       "    <tr>\n",
       "      <th>27</th>\n",
       "      <td>2500</td>\n",
       "      <td>Biomedica</td>\n",
       "    </tr>\n",
       "    <tr>\n",
       "      <th>23</th>\n",
       "      <td>2500</td>\n",
       "      <td>Recursos Humanos</td>\n",
       "    </tr>\n",
       "    <tr>\n",
       "      <th>28</th>\n",
       "      <td>2800</td>\n",
       "      <td>Comercio Exterior</td>\n",
       "    </tr>\n",
       "    <tr>\n",
       "      <th>13</th>\n",
       "      <td>3000</td>\n",
       "      <td>Enfermeira</td>\n",
       "    </tr>\n",
       "    <tr>\n",
       "      <th>21</th>\n",
       "      <td>3000</td>\n",
       "      <td>Pedreiro</td>\n",
       "    </tr>\n",
       "    <tr>\n",
       "      <th>12</th>\n",
       "      <td>3000</td>\n",
       "      <td>Enfermeira</td>\n",
       "    </tr>\n",
       "    <tr>\n",
       "      <th>25</th>\n",
       "      <td>3400</td>\n",
       "      <td>Gerente Geral</td>\n",
       "    </tr>\n",
       "    <tr>\n",
       "      <th>22</th>\n",
       "      <td>3500</td>\n",
       "      <td>Professora</td>\n",
       "    </tr>\n",
       "    <tr>\n",
       "      <th>20</th>\n",
       "      <td>4000</td>\n",
       "      <td>Nutricionista</td>\n",
       "    </tr>\n",
       "    <tr>\n",
       "      <th>26</th>\n",
       "      <td>4000</td>\n",
       "      <td>Analista de Sistemas</td>\n",
       "    </tr>\n",
       "    <tr>\n",
       "      <th>17</th>\n",
       "      <td>4500</td>\n",
       "      <td>Gerente Financeiro</td>\n",
       "    </tr>\n",
       "    <tr>\n",
       "      <th>18</th>\n",
       "      <td>4500</td>\n",
       "      <td>Gerente Financeiro</td>\n",
       "    </tr>\n",
       "    <tr>\n",
       "      <th>4</th>\n",
       "      <td>5000</td>\n",
       "      <td>Gerente de Projeto</td>\n",
       "    </tr>\n",
       "    <tr>\n",
       "      <th>15</th>\n",
       "      <td>5000</td>\n",
       "      <td>Caminhoneiro</td>\n",
       "    </tr>\n",
       "    <tr>\n",
       "      <th>16</th>\n",
       "      <td>5000</td>\n",
       "      <td>Caminhoneiro</td>\n",
       "    </tr>\n",
       "    <tr>\n",
       "      <th>14</th>\n",
       "      <td>7000</td>\n",
       "      <td>Autonoma</td>\n",
       "    </tr>\n",
       "    <tr>\n",
       "      <th>19</th>\n",
       "      <td>8000</td>\n",
       "      <td>Dentista</td>\n",
       "    </tr>\n",
       "    <tr>\n",
       "      <th>0</th>\n",
       "      <td>10000</td>\n",
       "      <td>Cientista de Dados</td>\n",
       "    </tr>\n",
       "    <tr>\n",
       "      <th>9</th>\n",
       "      <td>12000</td>\n",
       "      <td>Médica</td>\n",
       "    </tr>\n",
       "  </tbody>\n",
       "</table>\n",
       "</div>"
      ],
      "text/plain": [
       "    salario               profissão\n",
       "2         0            desempregado\n",
       "3         0            desempregado\n",
       "10        0               estudante\n",
       "11        0               estudante\n",
       "6       900        caixa de mercado\n",
       "1      1200            dona de casa\n",
       "7      1400              estagiario\n",
       "8      1400              estagiario\n",
       "5      1500  Auxiliar de Enfermagem\n",
       "24     2000               Frentista\n",
       "27     2500               Biomedica\n",
       "23     2500        Recursos Humanos\n",
       "28     2800       Comercio Exterior\n",
       "13     3000              Enfermeira\n",
       "21     3000                Pedreiro\n",
       "12     3000              Enfermeira\n",
       "25     3400           Gerente Geral\n",
       "22     3500              Professora\n",
       "20     4000           Nutricionista\n",
       "26     4000    Analista de Sistemas\n",
       "17     4500      Gerente Financeiro\n",
       "18     4500      Gerente Financeiro\n",
       "4      5000      Gerente de Projeto\n",
       "15     5000            Caminhoneiro\n",
       "16     5000            Caminhoneiro\n",
       "14     7000                Autonoma\n",
       "19     8000                Dentista\n",
       "0     10000      Cientista de Dados\n",
       "9     12000                  Médica"
      ]
     },
     "execution_count": 50,
     "metadata": {},
     "output_type": "execute_result"
    }
   ],
   "source": [
    "# Imprimi colunas salário e profissão. \n",
    "# Deste mode é possivel verificar a profissão com menor salário\n",
    "a[['salario', 'profissão']]"
   ]
  },
  {
   "cell_type": "markdown",
   "id": "b9a28e5f",
   "metadata": {},
   "source": [
    "### Tirando a profissão sem rendimento (desempregado e estudante) o menor salário é do Caixa de Mercado"
   ]
  },
  {
   "cell_type": "markdown",
   "id": "00e34464",
   "metadata": {},
   "source": [
    "# 9 - Quantas pessoas gostam de caminhar no final de semana "
   ]
  },
  {
   "cell_type": "code",
   "execution_count": 59,
   "id": "a43fb148",
   "metadata": {},
   "outputs": [
    {
     "data": {
      "text/html": [
       "<div>\n",
       "<style scoped>\n",
       "    .dataframe tbody tr th:only-of-type {\n",
       "        vertical-align: middle;\n",
       "    }\n",
       "\n",
       "    .dataframe tbody tr th {\n",
       "        vertical-align: top;\n",
       "    }\n",
       "\n",
       "    .dataframe thead th {\n",
       "        text-align: right;\n",
       "    }\n",
       "</style>\n",
       "<table border=\"1\" class=\"dataframe\">\n",
       "  <thead>\n",
       "    <tr style=\"text-align: right;\">\n",
       "      <th></th>\n",
       "      <th>nome</th>\n",
       "    </tr>\n",
       "    <tr>\n",
       "      <th>lazer_final_de_semana</th>\n",
       "      <th></th>\n",
       "    </tr>\n",
       "  </thead>\n",
       "  <tbody>\n",
       "    <tr>\n",
       "      <th>Nã faço nada</th>\n",
       "      <td>1</td>\n",
       "    </tr>\n",
       "    <tr>\n",
       "      <th>academia, limpeza de casa</th>\n",
       "      <td>1</td>\n",
       "    </tr>\n",
       "    <tr>\n",
       "      <th>barzinho com os amigos</th>\n",
       "      <td>1</td>\n",
       "    </tr>\n",
       "    <tr>\n",
       "      <th>barzinho com os amigos e descançar</th>\n",
       "      <td>2</td>\n",
       "    </tr>\n",
       "    <tr>\n",
       "      <th>caminhar</th>\n",
       "      <td>1</td>\n",
       "    </tr>\n",
       "    <tr>\n",
       "      <th>caminhar, ficar com os filhos</th>\n",
       "      <td>1</td>\n",
       "    </tr>\n",
       "    <tr>\n",
       "      <th>caminhar, ler livros e ficar com o filho</th>\n",
       "      <td>1</td>\n",
       "    </tr>\n",
       "    <tr>\n",
       "      <th>churrasco</th>\n",
       "      <td>1</td>\n",
       "    </tr>\n",
       "    <tr>\n",
       "      <th>correr e ficar com os amigos</th>\n",
       "      <td>1</td>\n",
       "    </tr>\n",
       "    <tr>\n",
       "      <th>correr na rua</th>\n",
       "      <td>1</td>\n",
       "    </tr>\n",
       "    <tr>\n",
       "      <th>correr, ler, estudar e ficar com os amigos</th>\n",
       "      <td>2</td>\n",
       "    </tr>\n",
       "    <tr>\n",
       "      <th>estudar, academia, jogar video game,surfar</th>\n",
       "      <td>1</td>\n",
       "    </tr>\n",
       "    <tr>\n",
       "      <th>estudo</th>\n",
       "      <td>1</td>\n",
       "    </tr>\n",
       "    <tr>\n",
       "      <th>fico com meus filhos, durante a semana não tenho tempo.</th>\n",
       "      <td>1</td>\n",
       "    </tr>\n",
       "    <tr>\n",
       "      <th>fico em casa</th>\n",
       "      <td>1</td>\n",
       "    </tr>\n",
       "    <tr>\n",
       "      <th>final de semana tiro para descançar</th>\n",
       "      <td>1</td>\n",
       "    </tr>\n",
       "    <tr>\n",
       "      <th>jogar bola</th>\n",
       "      <td>1</td>\n",
       "    </tr>\n",
       "    <tr>\n",
       "      <th>jogo bola</th>\n",
       "      <td>2</td>\n",
       "    </tr>\n",
       "    <tr>\n",
       "      <th>leitura e ficar com minha filha</th>\n",
       "      <td>1</td>\n",
       "    </tr>\n",
       "    <tr>\n",
       "      <th>leitura e ficar com os filhos</th>\n",
       "      <td>1</td>\n",
       "    </tr>\n",
       "    <tr>\n",
       "      <th>leitura, limpo a casa</th>\n",
       "      <td>1</td>\n",
       "    </tr>\n",
       "    <tr>\n",
       "      <th>nada</th>\n",
       "      <td>1</td>\n",
       "    </tr>\n",
       "    <tr>\n",
       "      <th>não faço nada</th>\n",
       "      <td>1</td>\n",
       "    </tr>\n",
       "    <tr>\n",
       "      <th>só jogo bola</th>\n",
       "      <td>1</td>\n",
       "    </tr>\n",
       "    <tr>\n",
       "      <th>só jogo bola, gosto de ficar com os amigos em churrasco</th>\n",
       "      <td>1</td>\n",
       "    </tr>\n",
       "    <tr>\n",
       "      <th>ver tv</th>\n",
       "      <td>1</td>\n",
       "    </tr>\n",
       "  </tbody>\n",
       "</table>\n",
       "</div>"
      ],
      "text/plain": [
       "                                                    nome\n",
       "lazer_final_de_semana                                   \n",
       "Nã faço nada                                           1\n",
       "academia, limpeza de casa                              1\n",
       "barzinho com os amigos                                 1\n",
       "barzinho com os amigos e descançar                     2\n",
       "caminhar                                               1\n",
       "caminhar, ficar com os filhos                          1\n",
       "caminhar, ler livros e ficar com o filho               1\n",
       "churrasco                                              1\n",
       "correr e ficar com os amigos                           1\n",
       "correr na rua                                          1\n",
       "correr, ler, estudar e ficar com os amigos             2\n",
       "estudar, academia, jogar video game,surfar             1\n",
       "estudo                                                 1\n",
       "fico com meus filhos, durante a semana não tenh...     1\n",
       "fico em casa                                           1\n",
       "final de semana tiro para descançar                    1\n",
       "jogar bola                                             1\n",
       "jogo bola                                              2\n",
       "leitura e ficar com minha filha                        1\n",
       "leitura e ficar com os filhos                          1\n",
       "leitura, limpo a casa                                  1\n",
       "nada                                                   1\n",
       "não faço nada                                          1\n",
       "só jogo bola                                           1\n",
       "só jogo bola, gosto de ficar com os amigos em c...     1\n",
       "ver tv                                                 1"
      ]
     },
     "execution_count": 59,
     "metadata": {},
     "output_type": "execute_result"
    }
   ],
   "source": [
    "# Verificando quantidade de homes e mulheres pelo método \"groupby\"\n",
    "merge_df[['lazer_final_de_semana','nome']].groupby('lazer_final_de_semana').count()"
   ]
  },
  {
   "cell_type": "markdown",
   "id": "781209bf",
   "metadata": {},
   "source": [
    "# 10 - Crie um gráfico mostrando entre a relação de escolaridade e quem pratica esporte "
   ]
  },
  {
   "cell_type": "markdown",
   "id": "0aba997f",
   "metadata": {},
   "source": [
    "# 11 - Crie um mapa de calor "
   ]
  },
  {
   "cell_type": "markdown",
   "id": "b6003c20",
   "metadata": {},
   "source": [
    "# 12 - Mostre de forma gráfica a distribuição de estados do cadastro "
   ]
  },
  {
   "cell_type": "code",
   "execution_count": null,
   "id": "7d941f59",
   "metadata": {},
   "outputs": [],
   "source": []
  }
 ],
 "metadata": {
  "kernelspec": {
   "display_name": "Python 3",
   "language": "python",
   "name": "python3"
  },
  "language_info": {
   "codemirror_mode": {
    "name": "ipython",
    "version": 3
   },
   "file_extension": ".py",
   "mimetype": "text/x-python",
   "name": "python",
   "nbconvert_exporter": "python",
   "pygments_lexer": "ipython3",
   "version": "3.8.8"
  }
 },
 "nbformat": 4,
 "nbformat_minor": 5
}
